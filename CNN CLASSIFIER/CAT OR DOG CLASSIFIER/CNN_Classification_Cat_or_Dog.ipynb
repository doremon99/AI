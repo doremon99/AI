{
  "nbformat": 4,
  "nbformat_minor": 0,
  "metadata": {
    "colab": {
      "name": "CNN_Classification_Cat_or_Dog.ipynb",
      "provenance": []
    },
    "kernelspec": {
      "name": "python3",
      "display_name": "Python 3"
    },
    "accelerator": "GPU"
  },
  "cells": [
    {
      "cell_type": "markdown",
      "metadata": {
        "id": "view-in-github",
        "colab_type": "text"
      },
      "source": [
        "<a href=\"https://colab.research.google.com/github/yadavrishi34/Machine_Learning_Repository/blob/master/CNN_Classification_Cat_or_Dog.ipynb\" target=\"_parent\"><img src=\"https://colab.research.google.com/assets/colab-badge.svg\" alt=\"Open In Colab\"/></a>"
      ]
    },
    {
      "cell_type": "code",
      "metadata": {
        "id": "FvZLGyJ8O_dC",
        "colab_type": "code",
        "colab": {
          "base_uri": "https://localhost:8080/",
          "height": 128
        },
        "outputId": "12fb09cb-5236-4e46-f636-bcd380cee9be"
      },
      "source": [
        "#get acess from google drive data into google colab\n",
        "\n",
        "from google.colab import drive\n",
        "drive.mount('/content/drive')"
      ],
      "execution_count": null,
      "outputs": [
        {
          "output_type": "stream",
          "text": [
            "Go to this URL in a browser: https://accounts.google.com/o/oauth2/auth?client_id=947318989803-6bn6qk8qdgf4n4g3pfee6491hc0brc4i.apps.googleusercontent.com&redirect_uri=urn%3aietf%3awg%3aoauth%3a2.0%3aoob&response_type=code&scope=email%20https%3a%2f%2fwww.googleapis.com%2fauth%2fdocs.test%20https%3a%2f%2fwww.googleapis.com%2fauth%2fdrive%20https%3a%2f%2fwww.googleapis.com%2fauth%2fdrive.photos.readonly%20https%3a%2f%2fwww.googleapis.com%2fauth%2fpeopleapi.readonly\n",
            "\n",
            "Enter your authorization code:\n",
            "··········\n",
            "Mounted at /content/drive\n"
          ],
          "name": "stdout"
        }
      ]
    },
    {
      "cell_type": "code",
      "metadata": {
        "id": "I03BBLBUR9N8",
        "colab_type": "code",
        "colab": {}
      },
      "source": [
        "# Importing the Keras libraries & packages\n",
        "from keras.models import Sequential\n",
        "from keras.layers import Conv2D\n",
        "from keras.layers import MaxPooling2D\n",
        "from keras.layers import Flatten\n",
        "from keras.layers import Dense"
      ],
      "execution_count": null,
      "outputs": []
    },
    {
      "cell_type": "code",
      "metadata": {
        "id": "MTZEt8cTVT1p",
        "colab_type": "code",
        "colab": {}
      },
      "source": [
        "# Initialising the CNN\n",
        "\n",
        "CNN_Classification=Sequential();\n"
      ],
      "execution_count": null,
      "outputs": []
    },
    {
      "cell_type": "code",
      "metadata": {
        "id": "kWj1PmdUVXx5",
        "colab_type": "code",
        "colab": {}
      },
      "source": [
        "# Step 1 - Convolution\n",
        "CNN_Classification.add(Conv2D(32,(3,3),input_shape=(64,64,3),activation='relu'))\n",
        "CNN_Classification.add(Conv2D(16,(3,3),activation='relu'))"
      ],
      "execution_count": null,
      "outputs": []
    },
    {
      "cell_type": "code",
      "metadata": {
        "id": "Hfimwn60VizO",
        "colab_type": "code",
        "colab": {}
      },
      "source": [
        "# Step 2 - Pooling\n",
        "CNN_Classification.add(MaxPooling2D(pool_size=(2,2)))\n",
        "CNN_Classification.add(MaxPooling2D(pool_size=(2,2)))"
      ],
      "execution_count": null,
      "outputs": []
    },
    {
      "cell_type": "code",
      "metadata": {
        "id": "_MW01HkVVnOX",
        "colab_type": "code",
        "colab": {}
      },
      "source": [
        "# Step 3 - Flattening\n",
        "CNN_Classification.add(Flatten())"
      ],
      "execution_count": null,
      "outputs": []
    },
    {
      "cell_type": "code",
      "metadata": {
        "id": "-eCZu8UrXPaU",
        "colab_type": "code",
        "colab": {}
      },
      "source": [
        "# Step 4 - Full connection\n",
        "\n",
        "CNN_Classification.add(Dense(units=128, activation='relu'))\n",
        "CNN_Classification.add(Dense(units=1, activation='sigmoid'))"
      ],
      "execution_count": null,
      "outputs": []
    },
    {
      "cell_type": "code",
      "metadata": {
        "id": "5uK06pFGXbo5",
        "colab_type": "code",
        "colab": {}
      },
      "source": [
        "# Compiling the CNN\n",
        "CNN_Classification.compile(optimizer ='adam',loss='binary_crossentropy',metrics=['accuracy'])"
      ],
      "execution_count": null,
      "outputs": []
    },
    {
      "cell_type": "code",
      "metadata": {
        "id": "P9TXHXSIXge6",
        "colab_type": "code",
        "colab": {}
      },
      "source": [
        "from keras.preprocessing.image import ImageDataGenerator\n",
        "\n",
        "train_datagen = ImageDataGenerator(rescale = 1./255,\n",
        "                                   shear_range = 0.2,\n",
        "                                   zoom_range = 0.2,\n",
        "                                   horizontal_flip = True)\n",
        "\n",
        "test_datagen = ImageDataGenerator(rescale = 1./255)\n",
        "\n",
        "training_set = train_datagen.flow_from_directory('/content/Data/dataset/training_set',\n",
        "                                                 target_size = (64, 64),\n",
        "                                                 batch_size = 32,\n",
        "                                                 class_mode = 'binary')\n",
        "\n",
        "test_set = test_datagen.flow_from_directory('/content/Data/dataset/test_set',\n",
        "                                            target_size = (64, 64),\n",
        "                                            batch_size = 32,\n",
        "                                            class_mode = 'binary')\n",
        "\n",
        "CNN_Classification.fit_generator(training_set,\n",
        "                         steps_per_epoch = 5000,\n",
        "                         epochs = 5,\n",
        "                         validation_data = test_set,\n",
        "                         validation_steps = 2000)"
      ],
      "execution_count": null,
      "outputs": []
    },
    {
      "cell_type": "code",
      "metadata": {
        "id": "p0yXGvo7ZbVl",
        "colab_type": "code",
        "colab": {}
      },
      "source": [
        "# predictions for dog image using train model\n",
        "import numpy as np\n",
        "from keras.preprocessing import image\n",
        "tested_image = image.load_img('/content/Data/dataset/single_prediction/cat_or_dog_1.jpg',target_size=(64,64))\n",
        "tested_image = image.img_to_array(tested_image)\n",
        "tested_image = np.expand_dims(tested_image,axis = 0)\n",
        "output = CNN_Classification.predict(tested_image)\n",
        "training_set.class_indices\n",
        "if output[0][0] ==1:\n",
        "  prediction = 'dog'\n",
        "  print(prediction )\n",
        "else:\n",
        "  prediction = 'cat'\n",
        "  print(prediction )"
      ],
      "execution_count": null,
      "outputs": []
    },
    {
      "cell_type": "code",
      "metadata": {
        "id": "3ts0j_Ub0FOB",
        "colab_type": "code",
        "colab": {
          "base_uri": "https://localhost:8080/",
          "height": 34
        },
        "outputId": "b0817bf7-31cb-4689-898e-0e3a9cbdc490"
      },
      "source": [
        "# predictions for cat image using train model\n",
        "import numpy as np\n",
        "from keras.preprocessing import image\n",
        "tested_image = image.load_img('/content/Data/dataset/single_prediction/cat_or_dog_2.jpg',target_size=(64,64))\n",
        "tested_image = image.img_to_array(tested_image)\n",
        "tested_image = np.expand_dims(tested_image,axis = 0)\n",
        "output = CNN_Classification.predict(tested_image)\n",
        "training_set.class_indices\n",
        "if output[0][0] ==1:\n",
        "  prediction = 'dog'\n",
        "  print(prediction )\n",
        "else:\n",
        "  prediction = 'cat'\n",
        "  print(prediction )"
      ],
      "execution_count": null,
      "outputs": [
        {
          "output_type": "stream",
          "text": [
            "cat\n"
          ],
          "name": "stdout"
        }
      ]
    },
    {
      "cell_type": "code",
      "metadata": {
        "id": "J0hfU12I15Z3",
        "colab_type": "code",
        "colab": {}
      },
      "source": [
        ""
      ],
      "execution_count": null,
      "outputs": []
    }
  ]
}